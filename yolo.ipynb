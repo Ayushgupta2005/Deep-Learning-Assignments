{
 "cells": [
  {
   "cell_type": "code",
   "execution_count": 4,
   "id": "9dbb3818",
   "metadata": {},
   "outputs": [],
   "source": [
    "from ultralytics import YOLO\n",
    "import cv2"
   ]
  },
  {
   "cell_type": "code",
   "execution_count": null,
   "id": "85254dfc",
   "metadata": {},
   "outputs": [],
   "source": [
    "model = YOLO(\"yolov8n.pt\")\n"
   ]
  },
  {
   "cell_type": "code",
   "execution_count": null,
   "id": "737c8d47",
   "metadata": {},
   "outputs": [],
   "source": [
    "img_path = \"dog.jpeg\"\n",
    "image = cv2.imread(img_path)\n"
   ]
  },
  {
   "cell_type": "code",
   "execution_count": null,
   "id": "ed28a1f6",
   "metadata": {},
   "outputs": [],
   "source": [
    "model = YOLO(\"yolov8n.pt\")\n"
   ]
  },
  {
   "cell_type": "code",
   "execution_count": 9,
   "id": "776ae6ad",
   "metadata": {},
   "outputs": [
    {
     "name": "stdout",
     "output_type": "stream",
     "text": [
      "\n",
      "image 1/1 /Users/ayushgupta/Library/CloudStorage/OneDrive-UPES/college/sem 5/DL_LAB/dog.jpeg: 480x640 1 dog, 159.7ms\n",
      "Speed: 9.3ms preprocess, 159.7ms inference, 7.9ms postprocess per image at shape (1, 3, 480, 640)\n"
     ]
    }
   ],
   "source": [
    "results = model(img_path)\n"
   ]
  },
  {
   "cell_type": "code",
   "execution_count": 12,
   "id": "f41d60e1",
   "metadata": {},
   "outputs": [
    {
     "data": {
      "text/plain": [
       "'detected.jpeg'"
      ]
     },
     "execution_count": 12,
     "metadata": {},
     "output_type": "execute_result"
    }
   ],
   "source": [
    "\n",
    "results[0].save(\"detected.jpeg\")   # saves annotated image to file\n"
   ]
  },
  {
   "cell_type": "code",
   "execution_count": null,
   "id": "678ce850",
   "metadata": {},
   "outputs": [
    {
     "name": "stderr",
     "output_type": "stream",
     "text": [
      "OpenCV: not authorized to capture video (status 0), requesting...\n",
      "OpenCV: camera failed to properly initialize!\n"
     ]
    },
    {
     "ename": "NameError",
     "evalue": "name 'time' is not defined",
     "output_type": "error",
     "traceback": [
      "\u001b[31m---------------------------------------------------------------------------\u001b[39m",
      "\u001b[31mNameError\u001b[39m                                 Traceback (most recent call last)",
      "\u001b[36mCell\u001b[39m\u001b[36m \u001b[39m\u001b[32mIn[14]\u001b[39m\u001b[32m, line 5\u001b[39m\n\u001b[32m      2\u001b[39m cap = cv2.VideoCapture(\u001b[32m0\u001b[39m)\n\u001b[32m      4\u001b[39m \u001b[38;5;66;03m# Get start time\u001b[39;00m\n\u001b[32m----> \u001b[39m\u001b[32m5\u001b[39m start_time = \u001b[43mtime\u001b[49m.time()\n\u001b[32m      7\u001b[39m \u001b[38;5;28;01mwhile\u001b[39;00m \u001b[38;5;28;01mTrue\u001b[39;00m:\n\u001b[32m      8\u001b[39m     ret, frame = cap.read()\n",
      "\u001b[31mNameError\u001b[39m: name 'time' is not defined"
     ]
    }
   ],
   "source": [
    "# Open webcam (0 = default camera)\n",
    "import time \n",
    "cap = cv2.VideoCapture(0)\n",
    "\n",
    "# Get start time\n",
    "start_time = time.time()\n",
    "\n",
    "while True:\n",
    "    ret, frame = cap.read()\n",
    "    if not ret:\n",
    "        break\n",
    "\n",
    "    # Run YOLO detection\n",
    "    results = model(frame, stream=True)\n",
    "\n",
    "    # Draw results on the frame\n",
    "    for r in results:\n",
    "        for box in r.boxes:\n",
    "            x1, y1, x2, y2 = map(int, box.xyxy[0])  # Bounding box coords\n",
    "            conf = float(box.conf[0])               # Confidence\n",
    "            cls = int(box.cls[0])                   # Class ID\n",
    "            label = f\"{model.names[cls]} {conf:.2f}\"\n",
    "            cv2.rectangle(frame, (x1, y1), (x2, y2), (0, 255, 0), 2)\n",
    "            cv2.putText(frame, label, (x1, y1 - 10),\n",
    "                        cv2.FONT_HERSHEY_SIMPLEX, 0.6, (0, 255, 0), 2)\n",
    "\n",
    "    # Show the frame\n",
    "    cv2.imshow(\"YOLOv8 Webcam\", frame)\n",
    "\n",
    "    # Break after 10 seconds\n",
    "    if time.time() - start_time > 40:\n",
    "        print(\"⏹️ Stopping after 10 seconds...\")\n",
    "        break\n",
    "\n",
    "    # Also allow manual quit with 'q'\n",
    "    if cv2.waitKey(1) & 0xFF == ord(\"q\"):\n",
    "        break\n",
    "\n",
    "# Release resources\n",
    "cap.release()\n",
    "cv2.destroyAllWindows()"
   ]
  }
 ],
 "metadata": {
  "kernelspec": {
   "display_name": "Python 3",
   "language": "python",
   "name": "python3"
  },
  "language_info": {
   "codemirror_mode": {
    "name": "ipython",
    "version": 3
   },
   "file_extension": ".py",
   "mimetype": "text/x-python",
   "name": "python",
   "nbconvert_exporter": "python",
   "pygments_lexer": "ipython3",
   "version": "3.13.0"
  }
 },
 "nbformat": 4,
 "nbformat_minor": 5
}
