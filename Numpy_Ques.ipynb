{
  "cells": [
    {
      "cell_type": "markdown",
      "metadata": {
        "id": "5YNIISPploTY"
      },
      "source": [
        "_____\n",
        "**Write a program to create an array [10, 5, 7, 20, 15, -9, 33], print it, Find the maximum and minimum Value of the array**"
      ]
    },
    {
      "cell_type": "code",
      "execution_count": 1,
      "metadata": {
        "id": "LGwQ0y0wloTY"
      },
      "outputs": [
        {
          "name": "stdout",
          "output_type": "stream",
          "text": [
            "Array: [10  5  7 20 15 -9 33]\n",
            "Maximum value: 33\n",
            "Minimum value: -9\n"
          ]
        }
      ],
      "source": [
        "import numpy as np\n",
        "arr = np.array([10, 5, 7, 20, 15, -9, 33])\n",
        "\n",
        "print(\"Array:\", arr)\n",
        "\n",
        "max_value = np.max(arr)\n",
        "min_value = np.min(arr)\n",
        "\n",
        "print(\"Maximum value:\", max_value)\n",
        "print(\"Minimum value:\", min_value)"
      ]
    },
    {
      "cell_type": "markdown",
      "metadata": {
        "id": "CjKQrl4ZloTY"
      },
      "source": [
        "______\n",
        "**Write a program to accept an array of elements and find the maximum without using max function**"
      ]
    },
    {
      "cell_type": "code",
      "execution_count": 9,
      "metadata": {
        "id": "jFqGo32uloTY"
      },
      "outputs": [
        {
          "name": "stdout",
          "output_type": "stream",
          "text": [
            "Array: [1, 2, 3]\n",
            "Maximum value: 3\n"
          ]
        }
      ],
      "source": [
        "n = int(input(\"Enter the number of elements: \"))\n",
        "arr = []\n",
        "\n",
        "for i in range(n):\n",
        "    num = int(input(f\"Enter element {i+1}: \"))\n",
        "    arr.append(num)\n",
        "\n",
        "max_value = arr[0]\n",
        "\n",
        "for i in range(1, n):\n",
        "    if arr[i] > max_value:\n",
        "        max_value = arr[i]\n",
        "\n",
        "print(\"Array:\", arr)\n",
        "print(\"Maximum value:\", max_value)"
      ]
    },
    {
      "cell_type": "markdown",
      "metadata": {
        "id": "V1Tbn_avloTY"
      },
      "source": [
        "___\n",
        "**Write a program to accept two matrices [[1,2],[3,4]],   [[2,4],[6,8]]and find the sum and subtraction of two matrices**"
      ]
    },
    {
      "cell_type": "code",
      "execution_count": 14,
      "metadata": {
        "id": "jyu705aKloTZ"
      },
      "outputs": [
        {
          "name": "stdout",
          "output_type": "stream",
          "text": [
            "Matrix 1: [[1, 2], [3, 4]]\n",
            "Matrix 2: [[2, 4], [6, 8]]\n",
            "Sum of matrices: [[3, 6], [9, 12]]\n",
            "Subtraction of matrices: [[-1, -2], [-3, -4]]\n"
          ]
        }
      ],
      "source": [
        "matrix1 = [[1, 2], [3, 4]]\n",
        "matrix2 = [[2, 4], [6, 8]]\n",
        "\n",
        "sum_matrix = [[0, 0], [0, 0]]\n",
        "sub_matrix = [[0, 0], [0, 0]]\n",
        "\n",
        "for i in range(len(matrix1)):\n",
        "    for j in range(len(matrix1[0])):\n",
        "        sum_matrix[i][j] = matrix1[i][j] + matrix2[i][j]\n",
        "        sub_matrix[i][j] = matrix1[i][j] - matrix2[i][j]\n",
        "\n",
        "print(\"Matrix 1:\", matrix1)\n",
        "print(\"Matrix 2:\", matrix2)\n",
        "print(\"Sum of matrices:\", sum_matrix)\n",
        "print(\"Subtraction of matrices:\", sub_matrix)"
      ]
    },
    {
      "cell_type": "markdown",
      "metadata": {
        "id": "e8iqIwlxloTZ"
      },
      "source": [
        "___\n",
        "**Write a program to generate a ranodom matrix of size 5 X 6. Add another row containing random elements to it. Find the sum of each row.**"
      ]
    },
    {
      "cell_type": "code",
      "execution_count": 18,
      "metadata": {
        "id": "RFvvJzj3loTZ"
      },
      "outputs": [
        {
          "name": "stdout",
          "output_type": "stream",
          "text": [
            "Matrix:\n",
            "[17, 3, 28, 24, 19, 28]\n",
            "[25, 46, 18, 15, 8, 25]\n",
            "[4, 17, 36, 24, 28, 17]\n",
            "[18, 11, 43, 9, 35, 10]\n",
            "[23, 26, 46, 43, 30, 20]\n",
            "[36, 47, 15, 19, 8, 50]\n",
            "\n",
            "Sum of each row:\n",
            "Row 1 sum: 119\n",
            "Row 2 sum: 137\n",
            "Row 3 sum: 126\n",
            "Row 4 sum: 126\n",
            "Row 5 sum: 188\n",
            "Row 6 sum: 175\n"
          ]
        }
      ],
      "source": [
        "import random\n",
        "rows, cols = 5, 6\n",
        "matrix = [[random.randint(1, 50) for _ in range(cols)] for _ in range(rows)]\n",
        "new_row = [random.randint(1, 50) for _ in range(cols)]\n",
        "matrix.append(new_row)\n",
        "\n",
        "print(\"Matrix:\")\n",
        "for row in matrix:\n",
        "    print(row)\n",
        "\n",
        "print(\"\\nSum of each row:\")\n",
        "for i, row in enumerate(matrix):\n",
        "    print(f\"Row {i+1} sum: {sum(row)}\")"
      ]
    },
    {
      "cell_type": "markdown",
      "metadata": {
        "id": "CIhpDElPloTZ"
      },
      "source": [
        "___\n",
        "**Write a program to generate a ranodm integer matrix of size 5 X 6. Add another column containing random integers to it. Compute the sine of each element and print it**"
      ]
    },
    {
      "cell_type": "code",
      "execution_count": 22,
      "metadata": {
        "id": "HXJgYMTDloTZ"
      },
      "outputs": [
        {
          "name": "stdout",
          "output_type": "stream",
          "text": [
            "Matrix with new column:\n",
            "[42, 45, 24, 3, 14, 11, 29]\n",
            "[5, 43, 34, 45, 21, 17, 37]\n",
            "[11, 30, 15, 26, 16, 26, 8]\n",
            "[36, 24, 12, 3, 46, 6, 19]\n",
            "[33, 27, 11, 38, 11, 46, 44]\n",
            "\n",
            "Sine of each element (in degrees):\n",
            "[0.6691, 0.7071, 0.4067, 0.0523, 0.2419, 0.1908, 0.4848]\n",
            "[0.0872, 0.682, 0.5592, 0.7071, 0.3584, 0.2924, 0.6018]\n",
            "[0.1908, 0.5, 0.2588, 0.4384, 0.2756, 0.4384, 0.1392]\n",
            "[0.5878, 0.4067, 0.2079, 0.0523, 0.7193, 0.1045, 0.3256]\n",
            "[0.5446, 0.454, 0.1908, 0.6157, 0.1908, 0.7193, 0.6947]\n"
          ]
        }
      ],
      "source": [
        "import random\n",
        "import math\n",
        "rows = 5\n",
        "cols = 6\n",
        "matrix = []\n",
        "\n",
        "for i in range(rows):\n",
        "    row = []\n",
        "    for j in range(cols):\n",
        "        row.append(random.randint(1, 50))\n",
        "    matrix.append(row)\n",
        "\n",
        "for i in range(rows):\n",
        "    matrix[i].append(random.randint(1, 50))\n",
        "\n",
        "print(\"Matrix with new column:\")\n",
        "for i in range(rows):\n",
        "    print(matrix[i])\n",
        "    \n",
        "print(\"\\nSine of each element (in degrees):\")\n",
        "for i in range(rows):\n",
        "    sine_row = []\n",
        "    for j in range(len(matrix[i])):\n",
        "        sine_value = math.sin(math.radians(matrix[i][j]))\n",
        "        sine_row.append(round(sine_value, 4))\n",
        "    print(sine_row)"
      ]
    },
    {
      "cell_type": "markdown",
      "metadata": {
        "id": "-St006l8loTZ"
      },
      "source": [
        "___\n",
        "**Write a program to generate a ranodm matrix of size 5 X 6. Consider the 3rd and 4th row; and 2nd, 3rd and 4th column and print the resultant matrix using slicing**"
      ]
    },
    {
      "cell_type": "code",
      "execution_count": 24,
      "metadata": {
        "id": "SUSwF0zRloTZ"
      },
      "outputs": [
        {
          "name": "stdout",
          "output_type": "stream",
          "text": [
            "Original Matrix:\n",
            "[15, 35, 24, 35, 41, 39]\n",
            "[32, 38, 12, 49, 5, 48]\n",
            "[28, 41, 25, 21, 12, 33]\n",
            "[49, 41, 47, 6, 17, 37]\n",
            "[5, 43, 35, 22, 18, 37]\n",
            "\n",
            "Resultant Matrix (3rd & 4th row, 2nd to 4th column):\n",
            "[41, 25, 21]\n",
            "[41, 47, 6]\n"
          ]
        }
      ],
      "source": [
        "import random\n",
        "\n",
        "rows = 5\n",
        "cols = 6\n",
        "matrix = []\n",
        "\n",
        "for i in range(rows):\n",
        "    row = []\n",
        "    for j in range(cols):\n",
        "        row.append(random.randint(1, 50))\n",
        "    matrix.append(row)\n",
        "\n",
        "print(\"Original Matrix:\")\n",
        "for row in matrix:\n",
        "    print(row)\n",
        "\n",
        "result_matrix = [row[1:4] for row in matrix[2:4]]\n",
        "\n",
        "print(\"\\nResultant Matrix (3rd & 4th row, 2nd to 4th column):\")\n",
        "for row in result_matrix:\n",
        "    print(row)"
      ]
    },
    {
      "cell_type": "markdown",
      "metadata": {
        "id": "np6xZQWTloTa"
      },
      "source": [
        "### Great Job!"
      ]
    }
  ],
  "metadata": {
    "colab": {
      "provenance": []
    },
    "kernelspec": {
      "display_name": "Python 3",
      "language": "python",
      "name": "python3"
    },
    "language_info": {
      "codemirror_mode": {
        "name": "ipython",
        "version": 3
      },
      "file_extension": ".py",
      "mimetype": "text/x-python",
      "name": "python",
      "nbconvert_exporter": "python",
      "pygments_lexer": "ipython3",
      "version": "3.12.1"
    }
  },
  "nbformat": 4,
  "nbformat_minor": 0
}
