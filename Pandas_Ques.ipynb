{
  "cells": [
    {
      "cell_type": "markdown",
      "metadata": {
        "id": "qcV0GNfbm2MC"
      },
      "source": [
        "______\n",
        "**1. Write a program to initialize a dictionary (of your choice) and create a pandas DataFrame from it. Print the dataframe?**"
      ]
    },
    {
      "cell_type": "code",
      "execution_count": 1,
      "metadata": {
        "colab": {
          "base_uri": "https://localhost:8080/",
          "height": 0
        },
        "id": "b8TpzXd5m2MD",
        "outputId": "cc0ae887-3674-47d3-9606-06f1904b1679"
      },
      "outputs": [
        {
          "name": "stdout",
          "output_type": "stream",
          "text": [
            "     Name  Age       City\n",
            "0   Ayush   20      Delhi\n",
            "1    Yash   16     Mumbai\n",
            "2  Akshay   22  Bangalore\n"
          ]
        }
      ],
      "source": [
        "#Code here\n",
        "import pandas as pd\n",
        "data = {\n",
        "    'Name': ['Ayush', 'Yash', 'Akshay'],\n",
        "    'Age': [20, 16, 22],\n",
        "    'City': ['Delhi', 'Mumbai', 'Bangalore']\n",
        "}\n",
        "df = pd.DataFrame(data)\n",
        "print(df)\n"
      ]
    },
    {
      "cell_type": "markdown",
      "metadata": {
        "id": "TKhMaxxZm2MD"
      },
      "source": [
        "___\n",
        "**2. Write a program to read the CSV file \"summer.csv\" into a pandas DataFrame \"df\", display the first 5 rows, and print the DataFrame's shape**"
      ]
    },
    {
      "cell_type": "code",
      "execution_count": 3,
      "metadata": {},
      "outputs": [
        {
          "name": "stdout",
          "output_type": "stream",
          "text": [
            "First 5 rows of the DataFrame:\n",
            "   Year    City     Sport Discipline             Athlete Country Gender  \\\n",
            "0  1896  Athens  Aquatics   Swimming       HAJOS, Alfred     HUN    Men   \n",
            "1  1896  Athens  Aquatics   Swimming    HERSCHMANN, Otto     AUT    Men   \n",
            "2  1896  Athens  Aquatics   Swimming   DRIVAS, Dimitrios     GRE    Men   \n",
            "3  1896  Athens  Aquatics   Swimming  MALOKINIS, Ioannis     GRE    Men   \n",
            "4  1896  Athens  Aquatics   Swimming  CHASAPIS, Spiridon     GRE    Men   \n",
            "\n",
            "                        Event   Medal  \n",
            "0              100M Freestyle    Gold  \n",
            "1              100M Freestyle  Silver  \n",
            "2  100M Freestyle For Sailors  Bronze  \n",
            "3  100M Freestyle For Sailors    Gold  \n",
            "4  100M Freestyle For Sailors  Silver  \n",
            "\n",
            "Shape of the DataFrame (rows, columns):\n",
            "(31165, 9)\n"
          ]
        }
      ],
      "source": [
        "df = pd.read_csv(\"summer.csv\")\n",
        "\n",
        "print(\"First 5 rows of the DataFrame:\")\n",
        "print(df.head())\n",
        "\n",
        "print(\"\\nShape of the DataFrame (rows, columns):\")\n",
        "print(df.shape)"
      ]
    },
    {
      "cell_type": "markdown",
      "metadata": {
        "id": "hhREPppvm2MD"
      },
      "source": [
        "___\n",
        "**3. Write a program to display the last 10 rows of the DataFrame?**"
      ]
    },
    {
      "cell_type": "code",
      "execution_count": 22,
      "metadata": {
        "colab": {
          "base_uri": "https://localhost:8080/",
          "height": 0
        },
        "id": "0LMVJXRPm2ME",
        "outputId": "0f917022-dc0c-48d6-9303-7016a7765eca"
      },
      "outputs": [
        {
          "name": "stdout",
          "output_type": "stream",
          "text": [
            "       Year      Sport           Discipline                  Participants  \\\n",
            "31155  2012  Wrestling  Wrestling Freestyle                 AHMADOV, Emin   \n",
            "31156  2012  Wrestling  Wrestling Freestyle          KAZAKEVIC, Aleksandr   \n",
            "31157  2012  Wrestling  Wrestling Freestyle                 KHUGAEV, Alan   \n",
            "31158  2012  Wrestling  Wrestling Freestyle  EBRAHIM, Karam Mohamed Gaber   \n",
            "31159  2012  Wrestling  Wrestling Freestyle               GAJIYEV, Danyal   \n",
            "31160  2012  Wrestling  Wrestling Freestyle            JANIKOWSKI, Damian   \n",
            "31161  2012  Wrestling  Wrestling Freestyle     REZAEI, Ghasem Gholamreza   \n",
            "31162  2012  Wrestling  Wrestling Freestyle                TOTROV, Rustam   \n",
            "31163  2012  Wrestling  Wrestling Freestyle             ALEKSANYAN, Artur   \n",
            "31164  2012  Wrestling  Wrestling Freestyle                LIDBERG, Jimmy   \n",
            "\n",
            "      Country Gender     Event   Medal       Century  Medal Points  \n",
            "31155     AZE    Men  Wg 74 KG  Bronze  21st Century             1  \n",
            "31156     LTU    Men  Wg 74 KG  Bronze  21st Century             1  \n",
            "31157     RUS    Men  Wg 84 KG    Gold  21st Century             3  \n",
            "31158     EGY    Men  Wg 84 KG  Silver  21st Century             2  \n",
            "31159     KAZ    Men  Wg 84 KG  Bronze  21st Century             1  \n",
            "31160     POL    Men  Wg 84 KG  Bronze  21st Century             1  \n",
            "31161     IRI    Men  Wg 96 KG    Gold  21st Century             3  \n",
            "31162     RUS    Men  Wg 96 KG  Silver  21st Century             2  \n",
            "31163     ARM    Men  Wg 96 KG  Bronze  21st Century             1  \n",
            "31164     SWE    Men  Wg 96 KG  Bronze  21st Century             1  \n"
          ]
        }
      ],
      "source": [
        "#Code here\n",
        "print(df.tail(10))"
      ]
    },
    {
      "cell_type": "markdown",
      "metadata": {
        "id": "F53jodYXm2ME"
      },
      "source": [
        "___\n",
        "**4. Write a program to get a summary of the DataFrame (such as the mean, count, etc.) and print the data types of all columns?**"
      ]
    },
    {
      "cell_type": "code",
      "execution_count": 26,
      "metadata": {
        "colab": {
          "base_uri": "https://localhost:8080/",
          "height": 0
        },
        "id": "Jf8-scn7m2ME",
        "outputId": "92a971d0-4c2e-487b-ecd1-59785762baf8"
      },
      "outputs": [
        {
          "name": "stdout",
          "output_type": "stream",
          "text": [
            "Summary of the DataFrame:\n",
            "               Year  Medal Points\n",
            "count  31165.000000  31165.000000\n",
            "mean    1970.482785      2.003754\n",
            "std       33.158416      0.818039\n",
            "min     1896.000000      1.000000\n",
            "25%     1948.000000      1.000000\n",
            "50%     1980.000000      2.000000\n",
            "75%     2000.000000      3.000000\n",
            "max     2012.000000      3.000000\n",
            "\n",
            "Data types of all columns:\n",
            "Year             int64\n",
            "Sport           object\n",
            "Discipline      object\n",
            "Participants    object\n",
            "Country         object\n",
            "Gender          object\n",
            "Event           object\n",
            "Medal           object\n",
            "Century         object\n",
            "Medal Points     int64\n",
            "dtype: object\n"
          ]
        }
      ],
      "source": [
        "#Code here\n",
        "print(\"Summary of the DataFrame:\")\n",
        "print(df.describe())\n",
        "print(\"\\nData types of all columns:\")\n",
        "print(df.dtypes)"
      ]
    },
    {
      "cell_type": "markdown",
      "metadata": {
        "id": "1Qa4jQAlm2ME"
      },
      "source": [
        "___\n",
        "**5. Write a program to select a single column \"Gender\" from the DataFrame?**"
      ]
    },
    {
      "cell_type": "code",
      "execution_count": 29,
      "metadata": {
        "colab": {
          "base_uri": "https://localhost:8080/",
          "height": 0
        },
        "id": "kVCfVte4m2ME",
        "outputId": "fb8fda57-ffe3-452c-cb1e-dc693b142566"
      },
      "outputs": [
        {
          "name": "stdout",
          "output_type": "stream",
          "text": [
            "0        Men\n",
            "1        Men\n",
            "2        Men\n",
            "3        Men\n",
            "4        Men\n",
            "        ... \n",
            "31160    Men\n",
            "31161    Men\n",
            "31162    Men\n",
            "31163    Men\n",
            "31164    Men\n",
            "Name: Gender, Length: 31165, dtype: object\n"
          ]
        }
      ],
      "source": [
        "#Code here\n",
        "genderColumn = df[\"Gender\"]\n",
        "print(genderColumn)"
      ]
    },
    {
      "cell_type": "markdown",
      "metadata": {
        "id": "rxmLBA_5m2ME"
      },
      "source": [
        "___\n",
        "**6. Write a program to select multiple columns \"Year\" and \"City\" from the DataFrame?**"
      ]
    },
    {
      "cell_type": "code",
      "execution_count": 1,
      "metadata": {
        "colab": {
          "base_uri": "https://localhost:8080/",
          "height": 0
        },
        "id": "HgDXSaBzm2ME",
        "outputId": "60e7d134-11eb-4c9c-fafc-81e5ce19d3e6"
      },
      "outputs": [
        {
          "name": "stdout",
          "output_type": "stream",
          "text": [
            "   Year    City\n",
            "0  1896  Athens\n",
            "1  1896  Athens\n",
            "2  1896  Athens\n",
            "3  1896  Athens\n",
            "4  1896  Athens\n"
          ]
        }
      ],
      "source": [
        "import pandas as pd\n",
        "\n",
        "df = pd.read_csv(\"summer.csv\")\n",
        "selected_columns = df[[\"Year\", \"City\"]]\n",
        "print(selected_columns.head())"
      ]
    },
    {
      "cell_type": "markdown",
      "metadata": {
        "id": "RR621DH9m2ME"
      },
      "source": [
        "___\n",
        "**7. Write a program to  filter rows in a DataFrame based on the condition that Gender = Men ?**"
      ]
    },
    {
      "cell_type": "code",
      "execution_count": 2,
      "metadata": {
        "colab": {
          "base_uri": "https://localhost:8080/",
          "height": 0
        },
        "id": "-6jOhf_qm2ME",
        "outputId": "81714b3e-6ec8-41ae-a69f-fcf951540788"
      },
      "outputs": [
        {
          "name": "stdout",
          "output_type": "stream",
          "text": [
            "       Year    City      Sport           Discipline  \\\n",
            "0      1896  Athens   Aquatics             Swimming   \n",
            "1      1896  Athens   Aquatics             Swimming   \n",
            "2      1896  Athens   Aquatics             Swimming   \n",
            "3      1896  Athens   Aquatics             Swimming   \n",
            "4      1896  Athens   Aquatics             Swimming   \n",
            "...     ...     ...        ...                  ...   \n",
            "31160  2012  London  Wrestling  Wrestling Freestyle   \n",
            "31161  2012  London  Wrestling  Wrestling Freestyle   \n",
            "31162  2012  London  Wrestling  Wrestling Freestyle   \n",
            "31163  2012  London  Wrestling  Wrestling Freestyle   \n",
            "31164  2012  London  Wrestling  Wrestling Freestyle   \n",
            "\n",
            "                         Athlete Country Gender                       Event  \\\n",
            "0                  HAJOS, Alfred     HUN    Men              100M Freestyle   \n",
            "1               HERSCHMANN, Otto     AUT    Men              100M Freestyle   \n",
            "2              DRIVAS, Dimitrios     GRE    Men  100M Freestyle For Sailors   \n",
            "3             MALOKINIS, Ioannis     GRE    Men  100M Freestyle For Sailors   \n",
            "4             CHASAPIS, Spiridon     GRE    Men  100M Freestyle For Sailors   \n",
            "...                          ...     ...    ...                         ...   \n",
            "31160         JANIKOWSKI, Damian     POL    Men                    Wg 84 KG   \n",
            "31161  REZAEI, Ghasem Gholamreza     IRI    Men                    Wg 96 KG   \n",
            "31162             TOTROV, Rustam     RUS    Men                    Wg 96 KG   \n",
            "31163          ALEKSANYAN, Artur     ARM    Men                    Wg 96 KG   \n",
            "31164             LIDBERG, Jimmy     SWE    Men                    Wg 96 KG   \n",
            "\n",
            "        Medal  \n",
            "0        Gold  \n",
            "1      Silver  \n",
            "2      Bronze  \n",
            "3        Gold  \n",
            "4      Silver  \n",
            "...       ...  \n",
            "31160  Bronze  \n",
            "31161    Gold  \n",
            "31162  Silver  \n",
            "31163  Bronze  \n",
            "31164  Bronze  \n",
            "\n",
            "[22746 rows x 9 columns]\n"
          ]
        }
      ],
      "source": [
        "#Code here\n",
        "men_df = df[df[\"Gender\"] == \"Men\"]\n",
        "print(men_df)"
      ]
    },
    {
      "cell_type": "markdown",
      "metadata": {
        "id": "24rVH2uLm2ME"
      },
      "source": [
        "___\n",
        "**8. Write a program to select and print the first 5 rows and columns 2 to 6 (inclusive) of the DataFrame. Also, print the type of the resulting object?**"
      ]
    },
    {
      "cell_type": "code",
      "execution_count": 3,
      "metadata": {
        "colab": {
          "base_uri": "https://localhost:8080/",
          "height": 0
        },
        "id": "fc1kT-pam2ME",
        "outputId": "fab55079-6daa-4d9e-9488-90ae54c3cb01"
      },
      "outputs": [
        {
          "name": "stdout",
          "output_type": "stream",
          "text": [
            "      Sport Discipline             Athlete Country Gender\n",
            "0  Aquatics   Swimming       HAJOS, Alfred     HUN    Men\n",
            "1  Aquatics   Swimming    HERSCHMANN, Otto     AUT    Men\n",
            "2  Aquatics   Swimming   DRIVAS, Dimitrios     GRE    Men\n",
            "3  Aquatics   Swimming  MALOKINIS, Ioannis     GRE    Men\n",
            "4  Aquatics   Swimming  CHASAPIS, Spiridon     GRE    Men\n",
            "\n",
            "Type of the resulting object: <class 'pandas.core.frame.DataFrame'>\n"
          ]
        }
      ],
      "source": [
        "#Code here\n",
        "result = df.iloc[:5, 2:7]\n",
        "print(result)\n",
        "print(\"\\nType of the resulting object:\", type(result))"
      ]
    },
    {
      "cell_type": "markdown",
      "metadata": {
        "id": "HIQHrOp9m2MF"
      },
      "source": [
        "___\n",
        "**9. Write a program to  delete a column \"City\" from the DataFrame and print the new dataframe??**"
      ]
    },
    {
      "cell_type": "code",
      "execution_count": 4,
      "metadata": {
        "colab": {
          "base_uri": "https://localhost:8080/",
          "height": 0
        },
        "id": "Vj7EGDH1m2MF",
        "outputId": "431e41ec-f21d-4280-a664-786f74b3c1d5"
      },
      "outputs": [
        {
          "name": "stdout",
          "output_type": "stream",
          "text": [
            "       Year      Sport           Discipline                    Athlete  \\\n",
            "0      1896   Aquatics             Swimming              HAJOS, Alfred   \n",
            "1      1896   Aquatics             Swimming           HERSCHMANN, Otto   \n",
            "2      1896   Aquatics             Swimming          DRIVAS, Dimitrios   \n",
            "3      1896   Aquatics             Swimming         MALOKINIS, Ioannis   \n",
            "4      1896   Aquatics             Swimming         CHASAPIS, Spiridon   \n",
            "...     ...        ...                  ...                        ...   \n",
            "31160  2012  Wrestling  Wrestling Freestyle         JANIKOWSKI, Damian   \n",
            "31161  2012  Wrestling  Wrestling Freestyle  REZAEI, Ghasem Gholamreza   \n",
            "31162  2012  Wrestling  Wrestling Freestyle             TOTROV, Rustam   \n",
            "31163  2012  Wrestling  Wrestling Freestyle          ALEKSANYAN, Artur   \n",
            "31164  2012  Wrestling  Wrestling Freestyle             LIDBERG, Jimmy   \n",
            "\n",
            "      Country Gender                       Event   Medal  \n",
            "0         HUN    Men              100M Freestyle    Gold  \n",
            "1         AUT    Men              100M Freestyle  Silver  \n",
            "2         GRE    Men  100M Freestyle For Sailors  Bronze  \n",
            "3         GRE    Men  100M Freestyle For Sailors    Gold  \n",
            "4         GRE    Men  100M Freestyle For Sailors  Silver  \n",
            "...       ...    ...                         ...     ...  \n",
            "31160     POL    Men                    Wg 84 KG  Bronze  \n",
            "31161     IRI    Men                    Wg 96 KG    Gold  \n",
            "31162     RUS    Men                    Wg 96 KG  Silver  \n",
            "31163     ARM    Men                    Wg 96 KG  Bronze  \n",
            "31164     SWE    Men                    Wg 96 KG  Bronze  \n",
            "\n",
            "[31165 rows x 8 columns]\n"
          ]
        }
      ],
      "source": [
        "#Code here\n",
        "df = df.drop(\"City\", axis=1)\n",
        "print(df)"
      ]
    },
    {
      "cell_type": "markdown",
      "metadata": {
        "id": "oxocLbZEm2MF"
      },
      "source": [
        "___\n",
        "**10. Write a program to  rename a column \"Athlete\" to \"Participants\" in the DataFrame?**"
      ]
    },
    {
      "cell_type": "code",
      "execution_count": 5,
      "metadata": {
        "colab": {
          "base_uri": "https://localhost:8080/",
          "height": 0
        },
        "id": "HD5JU-J7m2MF",
        "outputId": "620a3e98-9d1f-4f62-d1da-0c7bb4c5b79d"
      },
      "outputs": [
        {
          "name": "stdout",
          "output_type": "stream",
          "text": [
            "       Year      Sport           Discipline               Participants  \\\n",
            "0      1896   Aquatics             Swimming              HAJOS, Alfred   \n",
            "1      1896   Aquatics             Swimming           HERSCHMANN, Otto   \n",
            "2      1896   Aquatics             Swimming          DRIVAS, Dimitrios   \n",
            "3      1896   Aquatics             Swimming         MALOKINIS, Ioannis   \n",
            "4      1896   Aquatics             Swimming         CHASAPIS, Spiridon   \n",
            "...     ...        ...                  ...                        ...   \n",
            "31160  2012  Wrestling  Wrestling Freestyle         JANIKOWSKI, Damian   \n",
            "31161  2012  Wrestling  Wrestling Freestyle  REZAEI, Ghasem Gholamreza   \n",
            "31162  2012  Wrestling  Wrestling Freestyle             TOTROV, Rustam   \n",
            "31163  2012  Wrestling  Wrestling Freestyle          ALEKSANYAN, Artur   \n",
            "31164  2012  Wrestling  Wrestling Freestyle             LIDBERG, Jimmy   \n",
            "\n",
            "      Country Gender                       Event   Medal  \n",
            "0         HUN    Men              100M Freestyle    Gold  \n",
            "1         AUT    Men              100M Freestyle  Silver  \n",
            "2         GRE    Men  100M Freestyle For Sailors  Bronze  \n",
            "3         GRE    Men  100M Freestyle For Sailors    Gold  \n",
            "4         GRE    Men  100M Freestyle For Sailors  Silver  \n",
            "...       ...    ...                         ...     ...  \n",
            "31160     POL    Men                    Wg 84 KG  Bronze  \n",
            "31161     IRI    Men                    Wg 96 KG    Gold  \n",
            "31162     RUS    Men                    Wg 96 KG  Silver  \n",
            "31163     ARM    Men                    Wg 96 KG  Bronze  \n",
            "31164     SWE    Men                    Wg 96 KG  Bronze  \n",
            "\n",
            "[31165 rows x 8 columns]\n"
          ]
        }
      ],
      "source": [
        "#Code here\n",
        "df = df.rename(columns={\"Athlete\": \"Participants\"})\n",
        "print(df)"
      ]
    },
    {
      "cell_type": "markdown",
      "metadata": {
        "id": "bvpYy245m2MF"
      },
      "source": [
        "___\n",
        "**11. Write a program to select and print the \"Participants\", \"Medal\" and \"Event\" columns for index 10 and 201 from the DataFrame.?**"
      ]
    },
    {
      "cell_type": "code",
      "execution_count": 6,
      "metadata": {
        "colab": {
          "base_uri": "https://localhost:8080/",
          "height": 0
        },
        "id": "OSgRIQdpm2MF",
        "outputId": "f07120de-c7b6-4e02-9ee1-d912f0837f97"
      },
      "outputs": [
        {
          "name": "stdout",
          "output_type": "stream",
          "text": [
            "          Participants   Medal           Event\n",
            "10   PEPANOS, Antonios  Silver  400M Freestyle\n",
            "201    LISTER, William    Gold      Water Polo\n"
          ]
        }
      ],
      "source": [
        "#Code here\n",
        "df = df.rename(columns={\"Athlete\": \"Participants\"})\n",
        "result = df.loc[[10, 201], [\"Participants\", \"Medal\", \"Event\"]]\n",
        "print(result)"
      ]
    },
    {
      "cell_type": "markdown",
      "metadata": {
        "id": "Zunfeqkym2MF"
      },
      "source": [
        "___\n",
        "**12. Write a program to display the first 10 rows of the df DataFrame and check for any missing values in each column.?**"
      ]
    },
    {
      "cell_type": "code",
      "execution_count": 7,
      "metadata": {
        "colab": {
          "base_uri": "https://localhost:8080/",
          "height": 0
        },
        "id": "i-sDeIWNm2MF",
        "outputId": "5d2b4850-a9a4-4218-dfcf-b24234090610"
      },
      "outputs": [
        {
          "name": "stdout",
          "output_type": "stream",
          "text": [
            "First 10 rows:\n",
            "   Year     Sport Discipline           Participants Country Gender  \\\n",
            "0  1896  Aquatics   Swimming          HAJOS, Alfred     HUN    Men   \n",
            "1  1896  Aquatics   Swimming       HERSCHMANN, Otto     AUT    Men   \n",
            "2  1896  Aquatics   Swimming      DRIVAS, Dimitrios     GRE    Men   \n",
            "3  1896  Aquatics   Swimming     MALOKINIS, Ioannis     GRE    Men   \n",
            "4  1896  Aquatics   Swimming     CHASAPIS, Spiridon     GRE    Men   \n",
            "5  1896  Aquatics   Swimming  CHOROPHAS, Efstathios     GRE    Men   \n",
            "6  1896  Aquatics   Swimming          HAJOS, Alfred     HUN    Men   \n",
            "7  1896  Aquatics   Swimming       ANDREOU, Joannis     GRE    Men   \n",
            "8  1896  Aquatics   Swimming  CHOROPHAS, Efstathios     GRE    Men   \n",
            "9  1896  Aquatics   Swimming          NEUMANN, Paul     AUT    Men   \n",
            "\n",
            "                        Event   Medal  \n",
            "0              100M Freestyle    Gold  \n",
            "1              100M Freestyle  Silver  \n",
            "2  100M Freestyle For Sailors  Bronze  \n",
            "3  100M Freestyle For Sailors    Gold  \n",
            "4  100M Freestyle For Sailors  Silver  \n",
            "5             1200M Freestyle  Bronze  \n",
            "6             1200M Freestyle    Gold  \n",
            "7             1200M Freestyle  Silver  \n",
            "8              400M Freestyle  Bronze  \n",
            "9              400M Freestyle    Gold  \n",
            "\n",
            "Missing values in each column:\n",
            "Year            0\n",
            "Sport           0\n",
            "Discipline      0\n",
            "Participants    0\n",
            "Country         4\n",
            "Gender          0\n",
            "Event           0\n",
            "Medal           0\n",
            "dtype: int64\n"
          ]
        }
      ],
      "source": [
        "#Code here\n",
        "print(\"First 10 rows:\")\n",
        "print(df.head(10))\n",
        "print(\"\\nMissing values in each column:\")\n",
        "print(df.isnull().sum())"
      ]
    },
    {
      "cell_type": "markdown",
      "metadata": {
        "id": "CCLtjf9pm2MF"
      },
      "source": [
        "___\n",
        "**13. Write a program to select and print the \"Country\" and \"Medal\" columns from the df DataFrame, and then print the number of unique values in each of these columns.?**"
      ]
    },
    {
      "cell_type": "code",
      "execution_count": 8,
      "metadata": {
        "colab": {
          "base_uri": "https://localhost:8080/",
          "height": 0
        },
        "id": "Zc5EF7Okm2MF",
        "outputId": "264f6670-2f95-455f-8356-5b6da51834db"
      },
      "outputs": [
        {
          "name": "stdout",
          "output_type": "stream",
          "text": [
            "Selected columns:\n",
            "      Country   Medal\n",
            "0         HUN    Gold\n",
            "1         AUT  Silver\n",
            "2         GRE  Bronze\n",
            "3         GRE    Gold\n",
            "4         GRE  Silver\n",
            "...       ...     ...\n",
            "31160     POL  Bronze\n",
            "31161     IRI    Gold\n",
            "31162     RUS  Silver\n",
            "31163     ARM  Bronze\n",
            "31164     SWE  Bronze\n",
            "\n",
            "[31165 rows x 2 columns]\n",
            "\n",
            "Number of unique values:\n",
            "Unique Countries: 147\n",
            "Unique Medals: 3\n"
          ]
        }
      ],
      "source": [
        "#Code here\n",
        "selected = df[[\"Country\", \"Medal\"]]\n",
        "print(\"Selected columns:\")\n",
        "print(selected)\n",
        "print(\"\\nNumber of unique values:\")\n",
        "print(\"Unique Countries:\", df[\"Country\"].nunique())\n",
        "print(\"Unique Medals:\", df[\"Medal\"].nunique())"
      ]
    },
    {
      "cell_type": "markdown",
      "metadata": {
        "id": "FWgnrlx4m2MF"
      },
      "source": [
        "___\n",
        "**14. Write a program to group the df DataFrame by the \"Country\" column and calculate the total number of medals for each country. Print the result.?**"
      ]
    },
    {
      "cell_type": "code",
      "execution_count": 9,
      "metadata": {
        "colab": {
          "base_uri": "https://localhost:8080/",
          "height": 0
        },
        "id": "fRVgoVKhm2MG",
        "outputId": "b4a979c4-6b05-4a1f-e3d3-5b269eb61b05"
      },
      "outputs": [
        {
          "name": "stdout",
          "output_type": "stream",
          "text": [
            "Total number of medals for each country:\n",
            "Country\n",
            "AFG      2\n",
            "AHO      1\n",
            "ALG     15\n",
            "ANZ     29\n",
            "ARG    259\n",
            "      ... \n",
            "VIE      2\n",
            "YUG    435\n",
            "ZAM      2\n",
            "ZIM     23\n",
            "ZZX     48\n",
            "Name: Medal, Length: 147, dtype: int64\n"
          ]
        }
      ],
      "source": [
        "#Code here\n",
        "medal_count = df.groupby(\"Country\")[\"Medal\"].count()\n",
        "print(\"Total number of medals for each country:\")\n",
        "print(medal_count)"
      ]
    },
    {
      "cell_type": "markdown",
      "metadata": {
        "id": "Kr2Yrim7m2MG"
      },
      "source": [
        "___\n",
        "**15. Write a program to sort the df DataFrame by the \"Year\" column in descending order and print the first 5 rows of the sorted DataFrame.?**"
      ]
    },
    {
      "cell_type": "code",
      "execution_count": 10,
      "metadata": {
        "colab": {
          "base_uri": "https://localhost:8080/",
          "height": 0
        },
        "id": "z7KZfXgxm2MG",
        "outputId": "116592ad-2201-4c2c-b162-ac258ce3dbb6"
      },
      "outputs": [
        {
          "name": "stdout",
          "output_type": "stream",
          "text": [
            "Top 5 rows after sorting by Year (descending):\n",
            "       Year       Sport           Discipline        Participants Country  \\\n",
            "31164  2012   Wrestling  Wrestling Freestyle      LIDBERG, Jimmy     SWE   \n",
            "29885  2012      Boxing               Boxing     NEVIN, John Joe     IRL   \n",
            "29857  2012  Basketball           Basketball        BISHOP, Abby     AUS   \n",
            "29858  2012  Basketball           Basketball  CAMBAGE, Elizabeth     AUS   \n",
            "29859  2012  Basketball           Basketball    HARROWER, Kristi     AUS   \n",
            "\n",
            "      Gender       Event   Medal  \n",
            "31164    Men    Wg 96 KG  Bronze  \n",
            "29885    Men        56KG  Silver  \n",
            "29857  Women  Basketball  Bronze  \n",
            "29858  Women  Basketball  Bronze  \n",
            "29859  Women  Basketball  Bronze  \n"
          ]
        }
      ],
      "source": [
        "#Code here\n",
        "sorted_df = df.sort_values(by=\"Year\", ascending=False)\n",
        "print(\"Top 5 rows after sorting by Year (descending):\")\n",
        "print(sorted_df.head())"
      ]
    },
    {
      "cell_type": "markdown",
      "metadata": {
        "id": "h_C8jJjSm2MG"
      },
      "source": [
        "___\n",
        "**16. Write a program to add a new column \"Century\" to the df DataFrame. Classify each event as occurring in the \"20th Century\" if the \"Year\" is less than 2000, or the \"21st Century\" if the \"Year\" is 2000 or later. Print the first 5 rows to verify the change.**"
      ]
    },
    {
      "cell_type": "code",
      "execution_count": 11,
      "metadata": {
        "colab": {
          "base_uri": "https://localhost:8080/",
          "height": 0
        },
        "id": "1-iS6bAim2MG",
        "outputId": "d02265c8-48f3-4739-8d0a-e81fde57da1c"
      },
      "outputs": [
        {
          "name": "stdout",
          "output_type": "stream",
          "text": [
            "   Year     Sport Discipline        Participants Country Gender  \\\n",
            "0  1896  Aquatics   Swimming       HAJOS, Alfred     HUN    Men   \n",
            "1  1896  Aquatics   Swimming    HERSCHMANN, Otto     AUT    Men   \n",
            "2  1896  Aquatics   Swimming   DRIVAS, Dimitrios     GRE    Men   \n",
            "3  1896  Aquatics   Swimming  MALOKINIS, Ioannis     GRE    Men   \n",
            "4  1896  Aquatics   Swimming  CHASAPIS, Spiridon     GRE    Men   \n",
            "\n",
            "                        Event   Medal       Century  \n",
            "0              100M Freestyle    Gold  20th Century  \n",
            "1              100M Freestyle  Silver  20th Century  \n",
            "2  100M Freestyle For Sailors  Bronze  20th Century  \n",
            "3  100M Freestyle For Sailors    Gold  20th Century  \n",
            "4  100M Freestyle For Sailors  Silver  20th Century  \n"
          ]
        }
      ],
      "source": [
        "#Code here\n",
        "df[\"Century\"] = df[\"Year\"].apply(lambda year: \"20th Century\" if year < 2000 else \"21st Century\")\n",
        "print(df.head())"
      ]
    },
    {
      "cell_type": "markdown",
      "metadata": {
        "id": "BHc07ICSm2MH"
      },
      "source": [
        "___\n",
        "**17. Write a program to filter and print rows from the df DataFrame where the \"Country\" is \"USA\" and the \"Medal\" is \"Gold\". Also, count the number of rows that meet this condition.**"
      ]
    },
    {
      "cell_type": "code",
      "execution_count": 12,
      "metadata": {
        "colab": {
          "base_uri": "https://localhost:8080/",
          "height": 0
        },
        "id": "m7C99lk_m2MH",
        "outputId": "bd734c45-b9a8-428e-b8c4-a2204a25a553"
      },
      "outputs": [
        {
          "name": "stdout",
          "output_type": "stream",
          "text": [
            "Rows where Country is 'USA' and Medal is 'Gold':\n",
            "       Year       Sport           Discipline              Participants  \\\n",
            "13     1896   Athletics            Athletics             BURKE, Thomas   \n",
            "15     1896   Athletics            Athletics            CURTIS, Thomas   \n",
            "21     1896   Athletics            Athletics             BURKE, Thomas   \n",
            "27     1896   Athletics            Athletics           GARRETT, Robert   \n",
            "29     1896   Athletics            Athletics             CLARK, Ellery   \n",
            "...     ...         ...                  ...                       ...   \n",
            "30955  2012      Tennis               Tennis          WILLIAMS, Serena   \n",
            "30970  2012  Volleyball     Beach Volleyball                MAY, Misty   \n",
            "30971  2012  Volleyball     Beach Volleyball     WALSH JENNINGS, Kerri   \n",
            "31125  2012   Wrestling  Wrestling Freestyle  BURROUGHS, Jordan Ernest   \n",
            "31133  2012   Wrestling  Wrestling Freestyle     VARNER, Jacob Stephen   \n",
            "\n",
            "      Country Gender             Event Medal       Century  \n",
            "13        USA    Men              100M  Gold  20th Century  \n",
            "15        USA    Men      110M Hurdles  Gold  20th Century  \n",
            "21        USA    Men              400M  Gold  20th Century  \n",
            "27        USA    Men      Discus Throw  Gold  20th Century  \n",
            "29        USA    Men         High Jump  Gold  20th Century  \n",
            "...       ...    ...               ...   ...           ...  \n",
            "30955     USA  Women           Singles  Gold  21st Century  \n",
            "30970     USA  Women  Beach Volleyball  Gold  21st Century  \n",
            "30971     USA  Women  Beach Volleyball  Gold  21st Century  \n",
            "31125     USA    Men          Wf 74 KG  Gold  21st Century  \n",
            "31133     USA    Men          Wf 96 KG  Gold  21st Century  \n",
            "\n",
            "[2235 rows x 9 columns]\n",
            "\n",
            "Total number of such rows: 2235\n"
          ]
        }
      ],
      "source": [
        "#Code here\n",
        "usa_gold = df[(df[\"Country\"] == \"USA\") & (df[\"Medal\"] == \"Gold\")]\n",
        "print(\"Rows where Country is 'USA' and Medal is 'Gold':\")\n",
        "print(usa_gold)\n",
        "print(\"\\nTotal number of such rows:\", len(usa_gold))"
      ]
    },
    {
      "cell_type": "markdown",
      "metadata": {
        "id": "MhnhQ1Erm2MH"
      },
      "source": [
        "___\n",
        "**18. Write a program to create a new column \"Medal Points\" in the df DataFrame. Assign 3 points for \"Gold\", 2 points for \"Silver\", and 1 point for \"Bronze\". Print the first 5 rows to verify the changes.**"
      ]
    },
    {
      "cell_type": "code",
      "execution_count": 13,
      "metadata": {
        "colab": {
          "base_uri": "https://localhost:8080/",
          "height": 0
        },
        "id": "6f_CLPsom2MH",
        "outputId": "f2ac4550-ac7f-4100-86f2-aad9ed98b299"
      },
      "outputs": [
        {
          "name": "stdout",
          "output_type": "stream",
          "text": [
            "   Year     Sport Discipline        Participants Country Gender  \\\n",
            "0  1896  Aquatics   Swimming       HAJOS, Alfred     HUN    Men   \n",
            "1  1896  Aquatics   Swimming    HERSCHMANN, Otto     AUT    Men   \n",
            "2  1896  Aquatics   Swimming   DRIVAS, Dimitrios     GRE    Men   \n",
            "3  1896  Aquatics   Swimming  MALOKINIS, Ioannis     GRE    Men   \n",
            "4  1896  Aquatics   Swimming  CHASAPIS, Spiridon     GRE    Men   \n",
            "\n",
            "                        Event   Medal       Century  Medal Points  \n",
            "0              100M Freestyle    Gold  20th Century             3  \n",
            "1              100M Freestyle  Silver  20th Century             2  \n",
            "2  100M Freestyle For Sailors  Bronze  20th Century             1  \n",
            "3  100M Freestyle For Sailors    Gold  20th Century             3  \n",
            "4  100M Freestyle For Sailors  Silver  20th Century             2  \n"
          ]
        }
      ],
      "source": [
        "#Code here\n",
        "df[\"Medal Points\"] = df[\"Medal\"].map({\n",
        "    \"Gold\": 3,\n",
        "    \"Silver\": 2,\n",
        "    \"Bronze\": 1\n",
        "})\n",
        "print(df.head())"
      ]
    },
    {
      "cell_type": "markdown",
      "metadata": {
        "id": "_w8CAZoGm2MH"
      },
      "source": [
        "___\n",
        "**19. Write a program to filter the df DataFrame to include only rows where the \"Country\" is \"USA\". Then, group the filtered DataFrame by \"Year\" and calculate the total number of medals won by the USA each year. Print the results.**"
      ]
    },
    {
      "cell_type": "code",
      "execution_count": 14,
      "metadata": {
        "id": "PZwGcKaEm2MH"
      },
      "outputs": [
        {
          "name": "stdout",
          "output_type": "stream",
          "text": [
            "Total number of medals won by USA each year:\n",
            "Year\n",
            "1896     20\n",
            "1900     55\n",
            "1904    394\n",
            "1908     63\n",
            "1912    101\n",
            "1920    193\n",
            "1924    198\n",
            "1928     84\n",
            "1932    181\n",
            "1936     92\n",
            "1948    148\n",
            "1952    130\n",
            "1956    118\n",
            "1960    112\n",
            "1964    150\n",
            "1968    149\n",
            "1972    155\n",
            "1976    155\n",
            "1984    333\n",
            "1988    193\n",
            "1992    224\n",
            "1996    260\n",
            "2000    248\n",
            "2004    264\n",
            "2008    315\n",
            "2012    250\n",
            "Name: Medal, dtype: int64\n"
          ]
        }
      ],
      "source": [
        "#Code here\n",
        "usa_df = df[df[\"Country\"] == \"USA\"]\n",
        "medals_per_year = usa_df.groupby(\"Year\")[\"Medal\"].count()\n",
        "print(\"Total number of medals won by USA each year:\")\n",
        "print(medals_per_year)"
      ]
    },
    {
      "cell_type": "markdown",
      "metadata": {
        "id": "Fo3Zq-mTm2MH"
      },
      "source": [
        "___\n",
        "**20. Write a program to identify the athlete who has won the most medals. Display the athlete's name and the total number of medals they have won.**"
      ]
    },
    {
      "cell_type": "code",
      "execution_count": 18,
      "metadata": {
        "colab": {
          "base_uri": "https://localhost:8080/",
          "height": 0
        },
        "id": "qF5-f6sKm2MH",
        "outputId": "ddc463e9-426d-463e-dd92-161180e08c84"
      },
      "outputs": [
        {
          "name": "stdout",
          "output_type": "stream",
          "text": [
            "Athlete with the most medals: PHELPS, Michael\n",
            "Total medals won: 22\n"
          ]
        }
      ],
      "source": [
        "medal_counts = df[\"Athlete\"].value_counts()\n",
        "\n",
        "top_athlete = medal_counts.idxmax()\n",
        "top_medals = medal_counts.max()\n",
        "\n",
        "print(\"Athlete with the most medals:\", top_athlete)\n",
        "print(\"Total medals won:\", top_medals)"
      ]
    },
    {
      "cell_type": "markdown",
      "metadata": {
        "id": "QPwEMGiOm2MH"
      },
      "source": [
        "___\n",
        "**21. Write a program to group the df DataFrame by the \"Sport\" column and calculate the number of each type of medal (Gold, Silver, Bronze) for each sport. Print the results.**"
      ]
    },
    {
      "cell_type": "code",
      "execution_count": 19,
      "metadata": {
        "colab": {
          "base_uri": "https://localhost:8080/",
          "height": 0
        },
        "id": "L7LEmyW8m2MH",
        "outputId": "ba4e51af-6ad8-4c57-dc05-df95ec474df7"
      },
      "outputs": [
        {
          "name": "stdout",
          "output_type": "stream",
          "text": [
            "Number of each type of medal for each sport:\n",
            "Medal              Bronze  Gold  Silver\n",
            "Sport                                  \n",
            "Aquatics             1365  1421    1384\n",
            "Archery                90   126     113\n",
            "Athletics            1199  1215    1224\n",
            "Badminton              52    46      46\n",
            "Baseball              112   111     112\n",
            "Basketball            334   342     336\n",
            "Basque Pelota           0     2       2\n",
            "Boxing                416   239     239\n",
            "Canoe                  27    27      27\n",
            "Canoe / Kayak         334   334     334\n",
            "Cricket                 0    12      12\n",
            "Croquet                 2     4       2\n",
            "Cycling               365   371     369\n",
            "Equestrian            306   320     313\n",
            "Fencing               519   552     542\n",
            "Football              509   503     485\n",
            "Golf                    4    13      13\n",
            "Gymnastics            731   820     756\n",
            "Handball              323   321     329\n",
            "Hockey                459   486     477\n",
            "Ice Hockey              8     8      11\n",
            "Jeu de paume            1     1       1\n",
            "Judo                  246   123     122\n",
            "Lacrosse                0    28      31\n",
            "Modern Pentathlon      60    60      60\n",
            "Polo                   17    22      27\n",
            "Rackets                 4     3       3\n",
            "Roque                   1     1       1\n",
            "Rowing                888   890     889\n",
            "Rugby                  23    78      91\n",
            "Sailing               325   412     372\n",
            "Shooting              380   384     386\n",
            "Skating                 9     9       9\n",
            "Softball               60    60      60\n",
            "Table Tennis           52    46      46\n",
            "Taekwondo              48    32      32\n",
            "Tennis                114    92      90\n",
            "Triathlon               8     8       8\n",
            "Tug of War             22    36      36\n",
            "Volleyball            331   332     331\n",
            "Water Motorsports       0     5       0\n",
            "Weightlifting         197   200     196\n",
            "Wrestling             428   391     393\n"
          ]
        }
      ],
      "source": [
        "#Code here\n",
        "medal_counts = df.groupby([\"Sport\", \"Medal\"]).size().unstack(fill_value=0)\n",
        "print(\"Number of each type of medal for each sport:\")\n",
        "print(medal_counts)"
      ]
    },
    {
      "cell_type": "markdown",
      "metadata": {
        "id": "pBOrlEawm2MH"
      },
      "source": [
        "### Good Luck!"
      ]
    }
  ],
  "metadata": {
    "colab": {
      "provenance": []
    },
    "kernelspec": {
      "display_name": "Python 3",
      "language": "python",
      "name": "python3"
    },
    "language_info": {
      "codemirror_mode": {
        "name": "ipython",
        "version": 3
      },
      "file_extension": ".py",
      "mimetype": "text/x-python",
      "name": "python",
      "nbconvert_exporter": "python",
      "pygments_lexer": "ipython3",
      "version": "3.13.0"
    }
  },
  "nbformat": 4,
  "nbformat_minor": 0
}
